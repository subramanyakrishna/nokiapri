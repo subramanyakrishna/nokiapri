{
 "metadata": {
  "language_info": {
   "codemirror_mode": {
    "name": "ipython",
    "version": 3
   },
   "file_extension": ".py",
   "mimetype": "text/x-python",
   "name": "python",
   "nbconvert_exporter": "python",
   "pygments_lexer": "ipython3",
   "version": "3.8.8"
  },
  "orig_nbformat": 2,
  "kernelspec": {
   "name": "python388jvsc74a57bd07f306abfb4dc37496cfd5907a7241f03475353efa7ccc24aaa6a691d4eeafdb2",
   "display_name": "Python 3.8.8 64-bit ('base': conda)"
  }
 },
 "nbformat": 4,
 "nbformat_minor": 2,
 "cells": [
  {
   "cell_type": "code",
   "execution_count": 2,
   "metadata": {},
   "outputs": [],
   "source": [
    "from datetime import date, timedelta"
   ]
  },
  {
   "cell_type": "code",
   "execution_count": 3,
   "metadata": {},
   "outputs": [
    {
     "output_type": "execute_result",
     "data": {
      "text/plain": [
       "datetime.date(2021, 5, 25)"
      ]
     },
     "metadata": {},
     "execution_count": 3
    }
   ],
   "source": [
    "date.today()"
   ]
  },
  {
   "cell_type": "code",
   "execution_count": 4,
   "metadata": {},
   "outputs": [
    {
     "output_type": "execute_result",
     "data": {
      "text/plain": [
       "datetime.date(2021, 5, 24)"
      ]
     },
     "metadata": {},
     "execution_count": 4
    }
   ],
   "source": [
    "date.today()-timedelta(days=1)\n"
   ]
  },
  {
   "cell_type": "code",
   "execution_count": 7,
   "metadata": {},
   "outputs": [],
   "source": [
    "date1 = date.fromisoformat('2021-05-24')"
   ]
  },
  {
   "cell_type": "code",
   "execution_count": 9,
   "metadata": {},
   "outputs": [
    {
     "output_type": "execute_result",
     "data": {
      "text/plain": [
       "False"
      ]
     },
     "metadata": {},
     "execution_count": 9
    }
   ],
   "source": [
    "date.today() < date1"
   ]
  },
  {
   "cell_type": "code",
   "execution_count": 13,
   "metadata": {},
   "outputs": [],
   "source": [
    "import requests"
   ]
  },
  {
   "cell_type": "code",
   "execution_count": 11,
   "metadata": {},
   "outputs": [],
   "source": [
    "urlWeatherBit = \"https://api.weatherbit.io/v2.0/history/hourly?lat=\"+\"23\"+\"&lon=\"+\"73\"+\"&start_date=\"+\"2021-03-14\"+\"&end_date=\"+\"2021-03-15\"+\"&tz=local&key=c19308a05e44450f805946e96f0743d0\""
   ]
  },
  {
   "cell_type": "code",
   "execution_count": 17,
   "metadata": {},
   "outputs": [],
   "source": [
    "resForVisibility = requests.request(\"GET\", urlWeatherBit)"
   ]
  },
  {
   "cell_type": "code",
   "execution_count": 15,
   "metadata": {},
   "outputs": [
    {
     "output_type": "execute_result",
     "data": {
      "text/plain": [
       "<Response [200]>"
      ]
     },
     "metadata": {},
     "execution_count": 15
    }
   ],
   "source": [
    "resForVisibility"
   ]
  },
  {
   "cell_type": "code",
   "execution_count": 20,
   "metadata": {},
   "outputs": [
    {
     "output_type": "execute_result",
     "data": {
      "text/plain": [
       "True"
      ]
     },
     "metadata": {},
     "execution_count": 20
    }
   ],
   "source": [
    "resForVisibility.status_code==200"
   ]
  },
  {
   "cell_type": "code",
   "execution_count": 1,
   "metadata": {},
   "outputs": [
    {
     "output_type": "execute_result",
     "data": {
      "text/plain": [
       "'11:29:03'"
      ]
     },
     "metadata": {},
     "execution_count": 1
    }
   ],
   "source": [
    "import time\n",
    "timestamp=time.strftime('%H:%M:%S')\n",
    "timestamp"
   ]
  },
  {
   "cell_type": "code",
   "execution_count": 8,
   "metadata": {},
   "outputs": [
    {
     "output_type": "execute_result",
     "data": {
      "text/plain": [
       "11"
      ]
     },
     "metadata": {},
     "execution_count": 8
    }
   ],
   "source": [
    "hour =  int(timestamp[:2])\n",
    "hour"
   ]
  },
  {
   "cell_type": "code",
   "execution_count": 13,
   "metadata": {},
   "outputs": [
    {
     "output_type": "stream",
     "name": "stdout",
     "text": [
      "Name: timezonefinder\nVersion: 5.2.0\nSummary: fast python package for finding the timezone of any point on earth (coordinates) offline\nHome-page: https://github.com/jannikmi/timezonefinder\nAuthor: Jannik Michelfeit\nAuthor-email: python@michelfe.it\nLicense: MIT licence\nLocation: c:\\users\\kanna\\anaconda3\\lib\\site-packages\nRequires: numpy\nRequired-by: \n"
     ]
    }
   ],
   "source": [
    "!pip show timezonefinder"
   ]
  },
  {
   "cell_type": "code",
   "execution_count": 12,
   "metadata": {},
   "outputs": [
    {
     "output_type": "stream",
     "name": "stdout",
     "text": [
      "Name: pytz\nVersion: 2021.1\nSummary: World timezone definitions, modern and historical\nHome-page: http://pythonhosted.org/pytz\nAuthor: Stuart Bishop\nAuthor-email: stuart@stuartbishop.net\nLicense: MIT\nLocation: c:\\users\\kanna\\anaconda3\\lib\\site-packages\nRequires: \nRequired-by: pandas, conda-build, Babel, anaconda-client\n"
     ]
    }
   ],
   "source": [
    "!pip show pytz"
   ]
  },
  {
   "cell_type": "code",
   "execution_count": 20,
   "metadata": {},
   "outputs": [
    {
     "output_type": "execute_result",
     "data": {
      "text/plain": [
       "'12:13:11'"
      ]
     },
     "metadata": {},
     "execution_count": 20
    }
   ],
   "source": [
    "from datetime import datetime\n",
    "from timezonefinder import TimezoneFinder\n",
    "import pytz\n",
    "obj = TimezoneFinder()\n",
    "result = obj.timezone_at(lat=13.410994,lng=78.251699)\n",
    "IST = pytz.timezone(result)\n",
    "datetime_ist = datetime.now(IST)\n",
    "datetime_ist.strftime('%H:%M:%S')"
   ]
  },
  {
   "source": [
    "import requests\n",
    "url = \"http://api.timezonedb.com/v2.1/get-time-zone?key=AFCJPL4UYY4H&format=json&by=position&lat=\"+\"12.9791198\"+\"&lng=\"+\"77.5912997\"\n",
    "res = requests.request(\"GET\", url).json()\n",
    "\n",
    "print(res[\"formatted\"])\n",
    "\n",
    "print(float(res[\"formatted\"][11:13]))"
   ],
   "cell_type": "code",
   "metadata": {},
   "execution_count": 9,
   "outputs": [
    {
     "output_type": "stream",
     "name": "stdout",
     "text": [
      "2021-05-25 13:00:23\n13.0\n"
     ]
    }
   ]
  },
  {
   "cell_type": "code",
   "execution_count": 4,
   "metadata": {},
   "outputs": [
    {
     "output_type": "execute_result",
     "data": {
      "text/plain": [
       "True"
      ]
     },
     "metadata": {},
     "execution_count": 4
    }
   ],
   "source": [
    "from requests import request\n",
    "urlWeatherBit = \"https://api.weatherbit.io/v2.0/history/hourly?lat=23&lon=70&start_date=2021-05-23&end_date=2021-05-24&tz=local&key=c19308a05e44450f805946e96f0743d0\"\n",
    "res = request(\"GET\", urlWeatherBit)\n",
    "res.status_code == 429"
   ]
  },
  {
   "cell_type": "code",
   "execution_count": 1,
   "metadata": {},
   "outputs": [
    {
     "output_type": "stream",
     "name": "stdout",
     "text": [
      "Name: xgboost\nVersion: 1.4.2\nSummary: XGBoost Python Package\nHome-page: https://github.com/dmlc/xgboost\nAuthor: None\nAuthor-email: None\nLicense: Apache-2.0\nLocation: c:\\users\\kanna\\anaconda3\\lib\\site-packages\nRequires: numpy, scipy\nRequired-by: \n"
     ]
    }
   ],
   "source": [
    "!pip show xgboost"
   ]
  },
  {
   "cell_type": "code",
   "execution_count": null,
   "metadata": {},
   "outputs": [],
   "source": []
  }
 ]
}